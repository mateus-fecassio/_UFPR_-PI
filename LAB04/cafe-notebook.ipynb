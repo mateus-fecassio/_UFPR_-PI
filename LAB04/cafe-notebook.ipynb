{
 "cells": [
  {
   "cell_type": "code",
   "execution_count": null,
   "metadata": {},
   "outputs": [],
   "source": [
    "from scipy import ndimage\n",
    "# import imutils\n",
    "import sys\n",
    "import cv2\n",
    "import numpy as np\n",
    "import matplotlib.pyplot as plt\n",
    "from skimage.feature import peak_local_max\n",
    "from skimage.segmentation import watershed\n",
    "\n",
    "\n",
    "# import warnings filter\n",
    "from warnings import simplefilter\n",
    "# ignore all future warnings\n",
    "simplefilter(action='ignore', category=FutureWarning)"
   ]
  },
  {
   "cell_type": "code",
   "execution_count": null,
   "metadata": {},
   "outputs": [],
   "source": [
    "def segmentation(image):\n",
    "    shifted = cv2.pyrMeanShiftFiltering(image, 21, 51)\n",
    "\n",
    "    gray = cv2.cvtColor(shifted, cv2.COLOR_BGR2GRAY)\n",
    "    thresh = cv2.threshold(gray, 0, 255, cv2.THRESH_BINARY | cv2.THRESH_OTSU)[1]\n",
    "\n",
    "    kernel = cv2.getStructuringElement(cv2.MORPH_ELLIPSE, (3,3))\n",
    "    thresh = cv2.morphologyEx(thresh, cv2.MORPH_OPEN, kernel, iterations=5)\n",
    "\n",
    "    thresh = cv2.bitwise_not(thresh)\n",
    "\n",
    "    segmented = cv2.bitwise_and(image, image, mask=thresh)\n",
    "\n",
    "    return gray, thresh, segmented"
   ]
  },
  {
   "cell_type": "code",
   "execution_count": null,
   "metadata": {},
   "outputs": [],
   "source": [
    "def find_segments(thresh):\n",
    "    # compute the exact Euclidean distance from every binary\n",
    "    # pixel to the nearest zero pixel, then find peaks in this\n",
    "    # distance map\n",
    "    D = ndimage.distance_transform_edt(thresh)\n",
    "    localMax = peak_local_max(D, indices=False, min_distance=20, labels=thresh)\n",
    "\n",
    "    # perform a connected component analysis on the local peaks,\n",
    "    # using 8-connectivity, then appy the Watershed algorithm\n",
    "    markers = ndimage.label(localMax, structure=np.ones((3, 3)))[0]\n",
    "    labels = watershed(-D, markers, mask=thresh)\n",
    "    # print(\"[INFO] {} unique segments found\".format(len(np.unique(labels)) - 1))\n",
    "\n",
    "    # loop over the unique labels returned by the Watershed\n",
    "    # algorithm\n",
    "    contours_area = []\n",
    "    contours_list = []\n",
    "    for label in np.unique(labels):\n",
    "        # if the label is zero, we are examining the 'background'\n",
    "        # so simply ignore it\n",
    "        if label == 0:\n",
    "            continue\n",
    "\n",
    "        # otherwise, allocate memory for the label region and draw\n",
    "        # it on the mask\n",
    "        mask = np.zeros(gray.shape, dtype=\"uint8\")\n",
    "        mask[labels == label] = 255\n",
    "\n",
    "        # detect contours in the mask and grab the largest one\n",
    "        # cnts = cv2.findContours(mask.copy(), cv2.RETR_TREE, cv2.CHAIN_APPROX_SIMPLE)\n",
    "        cnts,hier = cv2.findContours(mask.copy(), cv2.RETR_TREE, cv2.CHAIN_APPROX_SIMPLE)\n",
    "        # cnts = imutils.grab_contours(cnts)\n",
    "        c = max(cnts, key=cv2.contourArea)\n",
    "\n",
    "        contours_area.append(cv2.contourArea(c))\n",
    "        contours_list.append(c)\n",
    "    \n",
    "\n",
    "    std = np.std(contours_area)\n",
    "    grains = 0\n",
    "    real_contours = []\n",
    "    contours_area = []\n",
    "    for i in range(0,len(contours_list),1):\n",
    "        area = cv2.contourArea(contours_list[i])\n",
    "        if area >= std:\n",
    "            grains += 1\n",
    "            real_contours.append(contours_list[i])\n",
    "            contours_area.append(cv2.contourArea(contours_list[i]))\n",
    "\n",
    "    media = np.mean(contours_area)\n",
    "    media = int(np.floor(media))\n",
    "\n",
    "    return grains, media, real_contours\n"
   ]
  },
  {
   "cell_type": "code",
   "execution_count": null,
   "metadata": {},
   "outputs": [],
   "source": [
    "if __name__ == \"__main__\":\n",
    "    #leitura da imagem de entrada\n",
    "    image = cv2.imread(sys.argv[1], cv2.IMREAD_UNCHANGED)\n",
    "\n",
    "    gray, thresh, segmented = segmentation(image)\n",
    "\n",
    "    # plt.imshow(gray)\n",
    "    # plt.show()\n",
    "\n",
    "    # plt.imshow(thresh)\n",
    "    # plt.show()\n",
    "\n",
    "    # plt.imshow(segmented)\n",
    "    # plt.show()\n",
    "\n",
    "    grains, media, contours = find_segments(thresh)\n",
    "\n",
    "    cv2.drawContours(segmented , contours , -1 , (0 ,255 , 0) , 2)\n",
    "    # plt.imshow(segmented)\n",
    "    # plt.show()\n",
    "    \n",
    "    print('Quantidade de GRÃOS encontrdos = ', grains)\n",
    "    print('Tamanho médio dos grãos encontrados (ÁREA) = ', media)\n",
    "    output_file = f\"{grains}-{media}-output.png\"\n",
    "    cv2.imwrite(output_file, segmented)"
   ]
  },
  {
   "cell_type": "code",
   "execution_count": null,
   "metadata": {},
   "outputs": [],
   "source": [
    "# image = cv2.imread('70-1.jpg',cv2.IMREAD_UNCHANGED)\n",
    "# gray, thresh, segmented = segmentation(image)\n",
    "\n",
    "# # plt.imshow(gray)\n",
    "# # plt.show()\n",
    "\n",
    "# # plt.imshow(thresh)\n",
    "# # plt.show()\n",
    "\n",
    "# # plt.imshow(segmented)\n",
    "# # plt.show()\n",
    "\n",
    "# grains, media, contours = find_segments(thresh)\n",
    "\n",
    "# cv2.drawContours(segmented , contours , -1 , (0 ,255 , 0) , 2)\n",
    "# # plt.imshow(segmented)\n",
    "# # plt.show()\n",
    "\n",
    "# output_file = f\"{grains}-{media}-output.png\"\n",
    "# cv2.imwrite(output_file, segmented)\n"
   ]
  },
  {
   "cell_type": "code",
   "execution_count": null,
   "metadata": {},
   "outputs": [],
   "source": [
    "# output_file = f\"{grains}-output.png\"\n",
    "# cv2.imwrite(output_file, segmented)"
   ]
  },
  {
   "cell_type": "code",
   "execution_count": null,
   "metadata": {},
   "outputs": [],
   "source": [
    "# # compute the exact Euclidean distance from every binary\n",
    "# # pixel to the nearest zero pixel, then find peaks in this\n",
    "# # distance map\n",
    "# D = ndimage.distance_transform_edt(thresh)\n",
    "# localMax = peak_local_max(D, indices=False, min_distance=20, labels=thresh)\n",
    "\n",
    "# # perform a connected component analysis on the local peaks,\n",
    "# # using 8-connectivity, then appy the Watershed algorithm\n",
    "# markers = ndimage.label(localMax, structure=np.ones((3, 3)))[0]\n",
    "# labels = watershed(-D, markers, mask=thresh)\n",
    "# print(\"[INFO] {} unique segments found\".format(len(np.unique(labels)) - 1))"
   ]
  },
  {
   "cell_type": "code",
   "execution_count": null,
   "metadata": {},
   "outputs": [],
   "source": [
    "# # loop over the unique labels returned by the Watershed\n",
    "# # algorithm\n",
    "# contours_area = []\n",
    "# contours_list = []\n",
    "# for label in np.unique(labels):\n",
    "# \t# if the label is zero, we are examining the 'background'\n",
    "# \t# so simply ignore it\n",
    "# \tif label == 0:\n",
    "# \t\tcontinue\n",
    "\n",
    "# \t# otherwise, allocate memory for the label region and draw\n",
    "# \t# it on the mask\n",
    "# \tmask = np.zeros(gray.shape, dtype=\"uint8\")\n",
    "# \tmask[labels == label] = 255\n",
    "\n",
    "# \t# detect contours in the mask and grab the largest one\n",
    "# \tcnts = cv2.findContours(mask.copy(), cv2.RETR_TREE, cv2.CHAIN_APPROX_SIMPLE)\n",
    "# \tcnts = imutils.grab_contours(cnts)\n",
    "# \t# print(len(cnts))\n",
    "# \tc = max(cnts, key=cv2.contourArea)\n",
    "\n",
    "# \tcontours_area.append(cv2.contourArea(c))\n",
    "# \tcontours_list.append(c)\n",
    "\t\n",
    "\n",
    "# \t# cv2.drawContours(image , cnts , -1 , (0 ,255 , 0) , 2)\n",
    "\n",
    "# \t# draw a circle enclosing the object\n",
    "# \t# ((x, y), r) = cv2.minEnclosingCircle(c)\n",
    "# \t# cv2.circle(image, (int(x), int(y)), int(r), (0, 255, 0), 2)\n",
    "# \t# cv2.putText(image, \"#{}\".format(label), (int(x) - 10, int(y)),\n",
    "# \t# \tcv2.FONT_HERSHEY_SIMPLEX, 0.6, (0, 0, 255), 2)\n",
    "\n",
    "# # show the output image\n",
    "# # plt.imshow(image)\n",
    "# # plt.show()\n",
    "# # cv2.imshow(\"Output\", image)\n",
    "# # cv2.waitKey(0)"
   ]
  },
  {
   "cell_type": "code",
   "execution_count": null,
   "metadata": {},
   "outputs": [],
   "source": [
    "# print(len(contours_area))\n",
    "# print(len(contours_list))\n",
    "# print(cv2.contourArea(contours_list[0]))"
   ]
  },
  {
   "cell_type": "code",
   "execution_count": null,
   "metadata": {},
   "outputs": [],
   "source": [
    "# media = np.std(contours_area)\n",
    "# print(media)"
   ]
  },
  {
   "cell_type": "code",
   "execution_count": null,
   "metadata": {},
   "outputs": [],
   "source": [
    "# std = np.std(contours_area)\n",
    "# count=0\n",
    "# real_contours = []\n",
    "# for i in range(0,len(contours_list),1):\n",
    "#     area = cv2.contourArea(contours_list[i])\n",
    "#     if area >= std:\n",
    "#         count += 1\n",
    "#         real_contours.append(contours_list[i])\n",
    "\n",
    "#     # print(contours_area[i])\n",
    "# print(count)"
   ]
  },
  {
   "cell_type": "code",
   "execution_count": null,
   "metadata": {},
   "outputs": [],
   "source": [
    "# print(len(real_contours))"
   ]
  },
  {
   "cell_type": "code",
   "execution_count": null,
   "metadata": {},
   "outputs": [],
   "source": [
    "# cv2.drawContours(image , real_contours , -1 , (0 ,255 , 0) , 2)\n",
    "# plt.imshow(image)\n",
    "# plt.show()"
   ]
  },
  {
   "cell_type": "code",
   "execution_count": null,
   "metadata": {},
   "outputs": [],
   "source": [
    "# print(type(c))\n",
    "# print(cv2.contourArea(c))"
   ]
  },
  {
   "cell_type": "code",
   "execution_count": null,
   "metadata": {},
   "outputs": [],
   "source": [
    "# for label in np.unique(labels):\n",
    "#     mask = np.zeros(gray.shape, dtype=\"uint8\")\n",
    "# \tmask[labels == label] = 255\n",
    "#     cnts = cv2.findContours(mask.copy(), cv2.RETR_TREE, cv2.CHAIN_APPROX_SIMPLE)\n",
    "#     # cnts = imutils.grab_contours(cnts)\n",
    "#     area = cv2.contourArea(cnts)\n",
    "#     print(area)"
   ]
  },
  {
   "cell_type": "code",
   "execution_count": null,
   "metadata": {},
   "outputs": [],
   "source": []
  }
 ],
 "metadata": {
  "colab": {
   "name": "RGBvsHSV.ipynb",
   "provenance": []
  },
  "interpreter": {
   "hash": "b3ba2566441a7c06988d0923437866b63cedc61552a5af99d1f4fb67d367b25f"
  },
  "kernelspec": {
   "display_name": "Python 3",
   "language": "python",
   "name": "python3"
  },
  "language_info": {
   "codemirror_mode": {
    "name": "ipython",
    "version": 3
   },
   "file_extension": ".py",
   "mimetype": "text/x-python",
   "name": "python",
   "nbconvert_exporter": "python",
   "pygments_lexer": "ipython3",
   "version": "3.8.8"
  }
 },
 "nbformat": 4,
 "nbformat_minor": 1
}
