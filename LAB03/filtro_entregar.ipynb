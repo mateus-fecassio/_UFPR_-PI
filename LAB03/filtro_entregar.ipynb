{
 "cells": [
  {
   "cell_type": "code",
   "execution_count": null,
   "metadata": {
    "colab": {
     "base_uri": "https://localhost:8080/",
     "height": 269
    },
    "id": "UMRt0FU6wsRI",
    "outputId": "546214c8-38c9-43e8-a409-8604f350ea68"
   },
   "outputs": [],
   "source": [
    "import sys\n",
    "import cv2\n",
    "import numpy as np\n",
    "import matplotlib.pyplot as plt\n",
    "import random\n",
    "import time\n",
    "import timeit\n",
    "# from mpl_toolkits.mplot3d import Axes3D\n",
    "# from matplotlib import cm\n",
    "# from matplotlib import colors\n",
    "# from matplotlib.colors import hsv_to_rgb\n",
    "# from glob import glob\n",
    "# import os\n",
    "# from os.path import join"
   ]
  },
  {
   "cell_type": "code",
   "execution_count": null,
   "metadata": {},
   "outputs": [],
   "source": [
    "def sp_noise(image, prob):        \n",
    "    output = np.zeros(image.shape,np.uint8)\n",
    "    thres = 1 - prob \n",
    "    for i in range(image.shape[0]):\n",
    "        for j in range(image.shape[1]):\n",
    "            rdn = random.random()\n",
    "            if rdn < prob:\n",
    "                output[i][j] = 0\n",
    "            elif rdn > thres:\n",
    "                output[i][j] = 255\n",
    "            else:\n",
    "                output[i][j] = image[i][j]\n",
    "    return output"
   ]
  },
  {
   "cell_type": "code",
   "execution_count": null,
   "metadata": {},
   "outputs": [],
   "source": [
    "def media_meth1(original, image_in, kernel_size):\n",
    "    kernel = np.ones((kernel_size, kernel_size), np.float32) / kernel_size*kernel_size\n",
    "    \n",
    "    if (original.dtype == 'uint8'):\n",
    "        image_in = np.array(image_in, dtype=np.float32)\n",
    "        image_out = cv2.filter2D(src=image_in, ddepth=-1, kernel=kernel)\n",
    "\n",
    "        #normalização da imagem\n",
    "        cv2.normalize(image_out, image_out, 0, 255, cv2.NORM_MINMAX)\n",
    "\n",
    "        result_image = np.array(image_out, dtype=np.uint8)\n",
    "    else:\n",
    "        result_image = cv2.filter2D(src=image_in, ddepth=-1, kernel=kernel)\n",
    "\n",
    "    #cálculo do PSNR\n",
    "    psnr = cv2.PSNR(original, result_image)\n",
    "    \n",
    "    return result_image, psnr"
   ]
  },
  {
   "cell_type": "code",
   "execution_count": null,
   "metadata": {},
   "outputs": [],
   "source": [
    "def media_meth2(original, image_in, kernel_size):\n",
    "    image_out = cv2.blur(image_in, (kernel_size, kernel_size))\n",
    "\n",
    "    #cálculo do PSNR\n",
    "    psnr = cv2.PSNR(original, image_out)\n",
    "    \n",
    "    return image_out, psnr"
   ]
  },
  {
   "cell_type": "code",
   "execution_count": null,
   "metadata": {},
   "outputs": [],
   "source": [
    "def media_meth3(original, image_in, kernel_size):\n",
    "    image_out = cv2.GaussianBlur(image_in, (kernel_size, kernel_size), 0)\n",
    "\n",
    "    #cálculo do PSNR\n",
    "    psnr = cv2.PSNR(original, image_out)\n",
    "    \n",
    "    return image_out, psnr"
   ]
  },
  {
   "cell_type": "code",
   "execution_count": null,
   "metadata": {},
   "outputs": [],
   "source": [
    "def media_meth4(original, image_in, kernel_size):\n",
    "    image_out = cv2.boxFilter(noisy_image, 0, (kernel_size,kernel_size))\n",
    "\n",
    "    #cálculo do PSNR\n",
    "    psnr = cv2.PSNR(original, image_out)\n",
    "    \n",
    "    return image_out, psnr"
   ]
  },
  {
   "cell_type": "code",
   "execution_count": null,
   "metadata": {},
   "outputs": [],
   "source": [
    "def mediana(original, image_in, kernel_size):\n",
    "    image_out = cv2.medianBlur(image_in, kernel_size)\n",
    "\n",
    "    #cálculo do PSNR\n",
    "    psnr = cv2.PSNR(original, image_out)\n",
    "    \n",
    "    return image_out, psnr"
   ]
  },
  {
   "cell_type": "code",
   "execution_count": null,
   "metadata": {},
   "outputs": [],
   "source": [
    "def empilhamento(original, noise_level, number):\n",
    "    noisy_images_list = []\n",
    "\n",
    "    # gera as imagens com ruído a serem empilhadas\n",
    "    for i in range(0,number,1):\n",
    "        noise_output = sp_noise(original, noise_level)\n",
    "        noisy_images_list.append(noise_output)\n",
    "\n",
    "\n",
    "    result_image = np.array(noisy_images_list[0], dtype=np.uint32)\n",
    "    for j in range(1,number,1):\n",
    "        result_image += noisy_images_list[j]\n",
    "\n",
    "    result_image = result_image // number\n",
    "    result_image = np.array(result_image, dtype=np.uint8)\n",
    "    \n",
    "    #cálculo do PSNR\n",
    "    psnr = cv2.PSNR(original, result_image)\n",
    "\n",
    "    return result_image, psnr"
   ]
  },
  {
   "cell_type": "code",
   "execution_count": null,
   "metadata": {},
   "outputs": [],
   "source": [
    "def laplaciano(original, image_in, kernel_size):\n",
    "    if (original.dtype == \"uint8\"):\n",
    "        laplacian = cv2.Laplacian(image_in, cv2.CV_8U, ksize=kernel_size)\n",
    "    else:\n",
    "        laplacian = cv2.Laplacian(image_in, cv2.CV_64F, ksize=kernel_size)\n",
    "\n",
    "    #cálculo do PSNR\n",
    "    psnr = cv2.PSNR(original, laplacian)\n",
    "    \n",
    "    return laplacian, psnr"
   ]
  },
  {
   "cell_type": "code",
   "execution_count": null,
   "metadata": {},
   "outputs": [],
   "source": [
    "def sobel(original, image_in, kernel_size):\n",
    "    if (original.dtype == \"uint8\"):\n",
    "        sobelx = cv2.Sobel(noisy_image,cv2.CV_8U,1,0,ksize=kernel_size)  # x\n",
    "        sobely = cv2.Sobel(noisy_image,cv2.CV_8U,0,1,ksize=kernel_size)  # y\n",
    "    else:\n",
    "        sobelx = cv2.Sobel(noisy_image,cv2.CV_64F,1,0,ksize=kernel_size)  # x\n",
    "        sobely = cv2.Sobel(noisy_image,cv2.CV_64F,0,1,ksize=kernel_size)  # y\n",
    "\n",
    "    #cálculo do PSNR\n",
    "    psnrx = cv2.PSNR(original, sobelx)\n",
    "    psnry = cv2.PSNR(original, sobely)\n",
    "\n",
    "    if(psnrx >= psnry):\n",
    "        return sobelx, psnrx\n",
    "    else:\n",
    "        return sobely, psnry"
   ]
  },
  {
   "cell_type": "code",
   "execution_count": null,
   "metadata": {},
   "outputs": [],
   "source": [
    "if __name__ == \"__main__\":\n",
    "    #leitura da imagem de entrada\n",
    "    original_image = cv2.imread(sys.argv[1])\n",
    "\n",
    "\n",
    "    #leitura do nível de ruído e geração da imagem com ruído\n",
    "    noise_level = float(sys.argv[2])\n",
    "    noisy_image = sp_noise(original_image, noise_level)\n",
    "\n",
    "\n",
    "    #definição da imagem de saída\n",
    "    output_file = sys.argv[4]\n",
    "\n",
    "\n",
    "    #definições de alguns parâmetros\n",
    "    kernel_size = 7\n",
    "    number = 120\n",
    "\n",
    "\n",
    "    inicio = timeit.default_timer()\n",
    "    #filtros\n",
    "    if sys.argv[3] == \"0\": ##MÉDIA filter2D\n",
    "        print(\"\\n---METHOD: MÉDIA filter2D\")\n",
    "        output_image,psnr = media_meth1(original_image, noisy_image, kernel_size)\n",
    "\n",
    "\n",
    "    elif sys.argv[3] == \"0.1\": ##MÉDIA blur\n",
    "        print(\"\\n---METHOD: MÉDIA blur\")\n",
    "        output_image,psnr = media_meth2(original_image, noisy_image, kernel_size)\n",
    "\n",
    "\n",
    "    elif sys.argv[3] == \"0.2\": ##MÉDIA GaussianBlur\n",
    "        print(\"\\n---METHOD: MÉDIA GaussianBlur\")\n",
    "        output_image,psnr = media_meth3(original_image, noisy_image, kernel_size)\n",
    "\n",
    "\n",
    "    elif sys.argv[3] == \"0.3\": ##MÉDIA boxFilter\n",
    "        print(\"\\n---METHOD: MÉDIA boxFilter\")\n",
    "        output_image,psnr = media_meth4(original_image, noisy_image, kernel_size)\n",
    "\n",
    "\n",
    "    elif sys.argv[3] == \"1\": ##MEDIANA\n",
    "        print(\"\\n---METHOD: MEDIANA\")\n",
    "        output_image,psnr = mediana(original_image, noisy_image, kernel_size)\n",
    "\n",
    "\n",
    "    elif sys.argv[3] == \"2\": ##EMPILHAMENTO\n",
    "        print(\"\\n---METHOD: EMPILHAMENTO\")\n",
    "        output_image,psnr = empilhamento(original_image, noise_level, number)\n",
    "\n",
    "\n",
    "    elif sys.argv[3] == \"3\": ##LAPLACIANO\n",
    "        print(\"\\n---METHOD: LAPLACE\")\n",
    "        output_image,psnr = laplaciano(original_image, noisy_image, kernel_size)\n",
    "\n",
    "\n",
    "    elif sys.argv[3] == \"4\": ##SOBEL\n",
    "        print(\"\\n---METHOD: SOBEL\")\n",
    "        output_image,psnr = sobel(original_image, noisy_image, kernel_size)\n",
    "    \n",
    "    \n",
    "    fim = timeit.default_timer()\n",
    "\n",
    "\n",
    "    print(\"\\nPSNR value = \", str(psnr))\n",
    "    print(\"EXECUTION time: %f\" % (fim - inicio))\n",
    "    \n",
    "    cv2.imwrite(output_file, output_image)"
   ]
  }
 ],
 "metadata": {
  "colab": {
   "name": "RGBvsHSV.ipynb",
   "provenance": []
  },
  "interpreter": {
   "hash": "b3ba2566441a7c06988d0923437866b63cedc61552a5af99d1f4fb67d367b25f"
  },
  "kernelspec": {
   "display_name": "Python 3",
   "language": "python",
   "name": "python3"
  },
  "language_info": {
   "codemirror_mode": {
    "name": "ipython",
    "version": 3
   },
   "file_extension": ".py",
   "mimetype": "text/x-python",
   "name": "python",
   "nbconvert_exporter": "python",
   "pygments_lexer": "ipython3",
   "version": "3.8.8"
  }
 },
 "nbformat": 4,
 "nbformat_minor": 1
}
